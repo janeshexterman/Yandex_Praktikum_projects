{
 "cells": [
  {
   "cell_type": "markdown",
   "metadata": {},
   "source": [
    "<div align=\"center\" class=\"alert alert-info\" role=\"alert\">\n",
    "    <h1>\n",
    "        Подбор подходящего пользователю тарифа сотовой связи\n",
    "        <br>\n",
    "        <small class=\"text-muted\">учебный проект по теме \"Введение в машинное обучение\"</small>\n",
    "    </h1>\n",
    "</div>"
   ]
  },
  {
   "cell_type": "markdown",
   "metadata": {},
   "source": [
    "<div align=\"right\" class=\"alert alert-info\" role=\"alert\">\n",
    "    <h3>Евгения Хомякова, 2020/12</h3>\n",
    "</div>"
   ]
  },
  {
   "cell_type": "markdown",
   "metadata": {},
   "source": [
    "### Описание проекта\n",
    "**Бизнес-задача:** оператор мобильной связи хочет построить систему, способную проанализировать поведение клиентов и предложить пользователям новый тариф вместо архивного: «Смарт» или «Ультра».\n",
    "\n",
    "**Данные:** предобработанные данные о поведении клиентов, которые уже перешли на эти тарифы.\n",
    "\n",
    "**Задача проекта:** построение модели для задачи **классификации**, которая выберет подходящий тариф.\n",
    "\n",
    "\n",
    "### Описание данных\n",
    "Каждый объект в наборе данных — это информация о поведении одного пользователя за месяц. Известно:\n",
    "* `сalls` — количество звонков,\n",
    "* `minutes` — суммарная длительность звонков в минутах,\n",
    "* `messages` — количество sms-сообщений,\n",
    "* `mb_used` — израсходованный интернет-трафик в Мб,\n",
    "* `is_ultra` — каким тарифом пользовался в течение месяца («Ультра» — 1, «Смарт» — 0).\n",
    "\n",
    "----"
   ]
  },
  {
   "cell_type": "markdown",
   "metadata": {},
   "source": [
    "<a name=\"table_of_contents\"></a>\n",
    "\n",
    "### Оглавление\n",
    "\n",
    "0. [Импорт библиотек  и данных](#import)\n",
    "1. [Разделение данных на train и test](#traintestsplit)\n",
    "2. [Стратегия кросс-валидации и метрики качества модели](#cv)\n",
    "3. [Бейзлайн](#baseline)\n",
    "4. [Подбор гиперпараметров случайного леса](#gridsearch)\n",
    "5. [Проверка модели на адекватность](#sanitycheck)\n",
    "6. [Выводы](#conclusions)"
   ]
  },
  {
   "cell_type": "markdown",
   "metadata": {},
   "source": [
    "<a name=\"import\"></a>\n",
    "## 0. Импорт библиотек  и данных"
   ]
  },
  {
   "cell_type": "code",
   "execution_count": 1,
   "metadata": {},
   "outputs": [],
   "source": [
    "import pandas as pd\n",
    "import numpy as np\n",
    "\n",
    "import matplotlib.pyplot as plt\n",
    "import seaborn as sns\n",
    "\n",
    "from sklearn.model_selection import train_test_split\n",
    "from sklearn.model_selection import StratifiedKFold\n",
    "from sklearn.pipeline import Pipeline\n",
    "from sklearn.preprocessing import StandardScaler\n",
    "from sklearn.model_selection import GridSearchCV, cross_validate\n",
    "from sklearn.metrics import f1_score, accuracy_score\n",
    "from sklearn.linear_model import LogisticRegression\n",
    "from sklearn.ensemble import RandomForestClassifier\n",
    "\n",
    "%matplotlib inline"
   ]
  },
  {
   "cell_type": "code",
   "execution_count": 2,
   "metadata": {},
   "outputs": [],
   "source": [
    "RS = 42"
   ]
  },
  {
   "cell_type": "code",
   "execution_count": 3,
   "metadata": {},
   "outputs": [],
   "source": [
    "sns.set_palette('Paired')\n",
    "sns.set_style('whitegrid',\n",
    "              {'axes.facecolor': '1',\n",
    "               'axes.edgecolor': '0.1',\n",
    "               'axes.labelcolor': '0.2',\n",
    "               'text.color': '0.2',\n",
    "               'xtick.color': '0.2',\n",
    "               'ytick.color': '0.2',\n",
    "               'grid.color': '0.7',\n",
    "               'figure.facecolor': '0.95',}\n",
    "             )\n",
    "\n",
    "sns.set_context('notebook', font_scale=1.3)\n",
    "\n",
    "plt.rcParams.update({\n",
    "    'legend.fancybox': True,\n",
    "    'legend.fontsize': 14,\n",
    "    'legend.framealpha': 0.8,\n",
    "    'legend.frameon': True,\n",
    "    'legend.shadow': True,\n",
    "    'legend.title_fontsize': 15,\n",
    "    'figure.figsize': (10, 6)\n",
    "})"
   ]
  },
  {
   "cell_type": "code",
   "execution_count": 4,
   "metadata": {},
   "outputs": [],
   "source": [
    "users = pd.read_csv('datasets/users_behavior.csv')"
   ]
  },
  {
   "cell_type": "code",
   "execution_count": 5,
   "metadata": {},
   "outputs": [
    {
     "data": {
      "text/html": [
       "<div>\n",
       "<style scoped>\n",
       "    .dataframe tbody tr th:only-of-type {\n",
       "        vertical-align: middle;\n",
       "    }\n",
       "\n",
       "    .dataframe tbody tr th {\n",
       "        vertical-align: top;\n",
       "    }\n",
       "\n",
       "    .dataframe thead th {\n",
       "        text-align: right;\n",
       "    }\n",
       "</style>\n",
       "<table border=\"1\" class=\"dataframe\">\n",
       "  <thead>\n",
       "    <tr style=\"text-align: right;\">\n",
       "      <th></th>\n",
       "      <th>calls</th>\n",
       "      <th>minutes</th>\n",
       "      <th>messages</th>\n",
       "      <th>mb_used</th>\n",
       "      <th>is_ultra</th>\n",
       "    </tr>\n",
       "  </thead>\n",
       "  <tbody>\n",
       "    <tr>\n",
       "      <th>0</th>\n",
       "      <td>40.0</td>\n",
       "      <td>311.90</td>\n",
       "      <td>83.0</td>\n",
       "      <td>19915.42</td>\n",
       "      <td>0</td>\n",
       "    </tr>\n",
       "    <tr>\n",
       "      <th>1</th>\n",
       "      <td>85.0</td>\n",
       "      <td>516.75</td>\n",
       "      <td>56.0</td>\n",
       "      <td>22696.96</td>\n",
       "      <td>0</td>\n",
       "    </tr>\n",
       "    <tr>\n",
       "      <th>2</th>\n",
       "      <td>77.0</td>\n",
       "      <td>467.66</td>\n",
       "      <td>86.0</td>\n",
       "      <td>21060.45</td>\n",
       "      <td>0</td>\n",
       "    </tr>\n",
       "    <tr>\n",
       "      <th>3</th>\n",
       "      <td>106.0</td>\n",
       "      <td>745.53</td>\n",
       "      <td>81.0</td>\n",
       "      <td>8437.39</td>\n",
       "      <td>1</td>\n",
       "    </tr>\n",
       "    <tr>\n",
       "      <th>4</th>\n",
       "      <td>66.0</td>\n",
       "      <td>418.74</td>\n",
       "      <td>1.0</td>\n",
       "      <td>14502.75</td>\n",
       "      <td>0</td>\n",
       "    </tr>\n",
       "  </tbody>\n",
       "</table>\n",
       "</div>"
      ],
      "text/plain": [
       "   calls  minutes  messages   mb_used  is_ultra\n",
       "0   40.0   311.90      83.0  19915.42         0\n",
       "1   85.0   516.75      56.0  22696.96         0\n",
       "2   77.0   467.66      86.0  21060.45         0\n",
       "3  106.0   745.53      81.0   8437.39         1\n",
       "4   66.0   418.74       1.0  14502.75         0"
      ]
     },
     "execution_count": 5,
     "metadata": {},
     "output_type": "execute_result"
    }
   ],
   "source": [
    "users.head()"
   ]
  },
  {
   "cell_type": "code",
   "execution_count": 6,
   "metadata": {},
   "outputs": [
    {
     "name": "stdout",
     "output_type": "stream",
     "text": [
      "<class 'pandas.core.frame.DataFrame'>\n",
      "RangeIndex: 3214 entries, 0 to 3213\n",
      "Data columns (total 5 columns):\n",
      " #   Column    Non-Null Count  Dtype  \n",
      "---  ------    --------------  -----  \n",
      " 0   calls     3214 non-null   float64\n",
      " 1   minutes   3214 non-null   float64\n",
      " 2   messages  3214 non-null   float64\n",
      " 3   mb_used   3214 non-null   float64\n",
      " 4   is_ultra  3214 non-null   int64  \n",
      "dtypes: float64(4), int64(1)\n",
      "memory usage: 125.7 KB\n"
     ]
    }
   ],
   "source": [
    "users.info(memory_usage='deep')"
   ]
  },
  {
   "cell_type": "code",
   "execution_count": 7,
   "metadata": {},
   "outputs": [
    {
     "data": {
      "text/plain": [
       "0"
      ]
     },
     "execution_count": 7,
     "metadata": {},
     "output_type": "execute_result"
    }
   ],
   "source": [
    "users.duplicated().sum()"
   ]
  },
  {
   "cell_type": "markdown",
   "metadata": {},
   "source": [
    "[вернуться к оглавлению](#table_of_contents)\n",
    "\n",
    "<a name=\"traintestsplit\"></a>\n",
    "## 1. Разделение данных на train и test\n",
    "Проверять качество на отложенной выборке - не здорово. Лучше делать это на кросс-валидации. Поэтому просто делим данные на train и test:"
   ]
  },
  {
   "cell_type": "code",
   "execution_count": 8,
   "metadata": {},
   "outputs": [],
   "source": [
    "X = users.drop(['is_ultra'], axis=1) # матрица признаков\n",
    "y = users['is_ultra'] # целевая переменная (метка класса)"
   ]
  },
  {
   "cell_type": "code",
   "execution_count": 9,
   "metadata": {},
   "outputs": [
    {
     "data": {
      "text/plain": [
       "0    0.693528\n",
       "1    0.306472\n",
       "Name: is_ultra, dtype: float64"
      ]
     },
     "execution_count": 9,
     "metadata": {},
     "output_type": "execute_result"
    }
   ],
   "source": [
    "y.value_counts(normalize=True)"
   ]
  },
  {
   "cell_type": "markdown",
   "metadata": {},
   "source": [
    "Классы несбалансированы, будем учитываеть это при построении модели."
   ]
  },
  {
   "cell_type": "code",
   "execution_count": 10,
   "metadata": {},
   "outputs": [],
   "source": [
    "X_train, X_test, y_train, y_test = train_test_split(X, y, test_size=0.25, stratify=y,\n",
    "                                                    random_state=RS, shuffle=True)"
   ]
  },
  {
   "cell_type": "markdown",
   "metadata": {},
   "source": [
    "Посмотрим, как выглядят объекты в двумерном пространстве. Для этого сделаем понижение размерности и изобразим классы на графиках:"
   ]
  },
  {
   "cell_type": "code",
   "execution_count": 11,
   "metadata": {},
   "outputs": [
    {
     "data": {
      "image/png": "[encoded data removed]",
      "text/plain": [
       "<Figure size 576x288 with 1 Axes>"
      ]
     },
     "metadata": {},
     "output_type": "display_data"
    }
   ],
   "source": [
    "from sklearn.decomposition import PCA\n",
    "\n",
    "scaler = StandardScaler()\n",
    "X_train_scaled = scaler.fit_transform(X_train)\n",
    "\n",
    "pca = PCA(n_components=2)\n",
    "X_train_decomp = pca.fit_transform(X_train_scaled)\n",
    "\n",
    "plt.figure(figsize=(8,4))\n",
    "plt.scatter(X_train_decomp[y_train == 0, 0],X_train_decomp[y_train == 0, 1],\n",
    "            color='navy', alpha=.8)\n",
    "plt.scatter(X_train_decomp[y_train == 1, 0],X_train_decomp[y_train == 1, 1],\n",
    "            color='turquoise', alpha=.8)\n",
    "plt.show()"
   ]
  },
  {
   "cell_type": "markdown",
   "metadata": {},
   "source": [
    "Видим, что пространственно признаки сложно разделимы, вероятно, линейные модели будут работать плохо."
   ]
  },
  {
   "cell_type": "markdown",
   "metadata": {},
   "source": [
    "[вернуться к оглавлению](#table_of_contents)\n",
    "\n",
    "<a name=\"cv\"></a>\n",
    "## 2. Стратегия кросс-валидации и метрики качества модели\n",
    "Будем делить на 3 фолда с учетом того, что классы у нас несбалансированы:"
   ]
  },
  {
   "cell_type": "code",
   "execution_count": 12,
   "metadata": {},
   "outputs": [],
   "source": [
    "# стратегия кросс-валидации\n",
    "NFOLDS = 3\n",
    "SKF = StratifiedKFold(n_splits=NFOLDS, shuffle=True, random_state=RS)"
   ]
  },
  {
   "cell_type": "markdown",
   "metadata": {},
   "source": [
    "Оценивать качество классификации несбалансированной выборки по `accuracy` - так себе затея, но так так в задании требуется, то сделаем. На самом деле хорошо использовать `f1_score`:"
   ]
  },
  {
   "cell_type": "code",
   "execution_count": 13,
   "metadata": {},
   "outputs": [],
   "source": [
    "# метрики для крос-валидации\n",
    "scorers = ('f1','accuracy')"
   ]
  },
  {
   "cell_type": "code",
   "execution_count": 14,
   "metadata": {},
   "outputs": [],
   "source": [
    "def get_cv_results(pipeline, X_train, y_train, cv=None, scorers=None):\n",
    "    '''\n",
    "    делает кросс-валидацию пайплайна, считая несколько метрик\n",
    "    записывает результаты  в датафрейм и возвращает средние значения метрик для трейна и теста\n",
    "    '''\n",
    "    cv_res = cross_validate(pipeline, X_train, y_train,\n",
    "                            cv=cv, scoring=scorers, return_train_score=True)\n",
    "    cv_res = pd.DataFrame.from_dict(cv_res)[['test_f1','train_f1', 'test_accuracy','train_accuracy']]\n",
    "    mean_res = cv_res.mean(axis=0)\n",
    "    std_res = cv_res.std(axis=0)\n",
    "    result = np.round(pd.concat([mean_res, std_res], axis=1), 3)\n",
    "    result.columns = ['mean', 'std dev']\n",
    "\n",
    "    return result"
   ]
  },
  {
   "cell_type": "markdown",
   "metadata": {},
   "source": [
    "[вернуться к оглавлению](#table_of_contents)\n",
    "\n",
    "<a name=\"baseline\"></a>\n",
    "## 3. Бейзлайн\n",
    "Признаки хорошо бы стандартизировать, так как признаки измеряются в очень разных масштабах:"
   ]
  },
  {
   "cell_type": "code",
   "execution_count": 15,
   "metadata": {},
   "outputs": [
    {
     "data": {
      "image/png": "[encoded data removed]",
      "text/plain": [
       "<Figure size 864x576 with 4 Axes>"
      ]
     },
     "metadata": {},
     "output_type": "display_data"
    }
   ],
   "source": [
    "X_train.sort_index().plot(subplots=True, layout=(2,2), figsize=(12,8))\n",
    "plt.show()"
   ]
  },
  {
   "cell_type": "markdown",
   "metadata": {},
   "source": [
    "Определим два пайплайна для двух классификаторов - **Логистической регрессии** и **Случайного леса**, с параметрами по умолчанию - это будут наши *бейзлайны*. Оценим метрики качества этих пайплайнов *на кросс-валидации*:"
   ]
  },
  {
   "cell_type": "code",
   "execution_count": 16,
   "metadata": {},
   "outputs": [
    {
     "data": {
      "text/html": [
       "<div>\n",
       "<style scoped>\n",
       "    .dataframe tbody tr th:only-of-type {\n",
       "        vertical-align: middle;\n",
       "    }\n",
       "\n",
       "    .dataframe tbody tr th {\n",
       "        vertical-align: top;\n",
       "    }\n",
       "\n",
       "    .dataframe thead th {\n",
       "        text-align: right;\n",
       "    }\n",
       "</style>\n",
       "<table border=\"1\" class=\"dataframe\">\n",
       "  <thead>\n",
       "    <tr style=\"text-align: right;\">\n",
       "      <th></th>\n",
       "      <th>mean</th>\n",
       "      <th>std dev</th>\n",
       "    </tr>\n",
       "  </thead>\n",
       "  <tbody>\n",
       "    <tr>\n",
       "      <th>test_f1</th>\n",
       "      <td>0.330</td>\n",
       "      <td>0.018</td>\n",
       "    </tr>\n",
       "    <tr>\n",
       "      <th>train_f1</th>\n",
       "      <td>0.346</td>\n",
       "      <td>0.025</td>\n",
       "    </tr>\n",
       "    <tr>\n",
       "      <th>test_accuracy</th>\n",
       "      <td>0.742</td>\n",
       "      <td>0.004</td>\n",
       "    </tr>\n",
       "    <tr>\n",
       "      <th>train_accuracy</th>\n",
       "      <td>0.747</td>\n",
       "      <td>0.007</td>\n",
       "    </tr>\n",
       "  </tbody>\n",
       "</table>\n",
       "</div>"
      ],
      "text/plain": [
       "                 mean  std dev\n",
       "test_f1         0.330    0.018\n",
       "train_f1        0.346    0.025\n",
       "test_accuracy   0.742    0.004\n",
       "train_accuracy  0.747    0.007"
      ]
     },
     "execution_count": 16,
     "metadata": {},
     "output_type": "execute_result"
    }
   ],
   "source": [
    "logreg_clf_pipeline = Pipeline([\n",
    "    ('scaler', StandardScaler(with_mean=True, with_std=True)),\n",
    "    ('logreg', LogisticRegression(n_jobs=-1))\n",
    "])\n",
    "logreg_result = get_cv_results(logreg_clf_pipeline, X_train, y_train, cv=SKF, scorers=scorers)\n",
    "logreg_result"
   ]
  },
  {
   "cell_type": "markdown",
   "metadata": {},
   "source": [
    "Видим, что при `accuracy` 0.74 на кроссвалидации `f1_score` всего 0.33!"
   ]
  },
  {
   "cell_type": "code",
   "execution_count": 17,
   "metadata": {},
   "outputs": [
    {
     "data": {
      "text/html": [
       "<div>\n",
       "<style scoped>\n",
       "    .dataframe tbody tr th:only-of-type {\n",
       "        vertical-align: middle;\n",
       "    }\n",
       "\n",
       "    .dataframe tbody tr th {\n",
       "        vertical-align: top;\n",
       "    }\n",
       "\n",
       "    .dataframe thead th {\n",
       "        text-align: right;\n",
       "    }\n",
       "</style>\n",
       "<table border=\"1\" class=\"dataframe\">\n",
       "  <thead>\n",
       "    <tr style=\"text-align: right;\">\n",
       "      <th></th>\n",
       "      <th>mean</th>\n",
       "      <th>std dev</th>\n",
       "    </tr>\n",
       "  </thead>\n",
       "  <tbody>\n",
       "    <tr>\n",
       "      <th>test_f1</th>\n",
       "      <td>0.630</td>\n",
       "      <td>0.007</td>\n",
       "    </tr>\n",
       "    <tr>\n",
       "      <th>train_f1</th>\n",
       "      <td>1.000</td>\n",
       "      <td>0.000</td>\n",
       "    </tr>\n",
       "    <tr>\n",
       "      <th>test_accuracy</th>\n",
       "      <td>0.799</td>\n",
       "      <td>0.006</td>\n",
       "    </tr>\n",
       "    <tr>\n",
       "      <th>train_accuracy</th>\n",
       "      <td>1.000</td>\n",
       "      <td>0.000</td>\n",
       "    </tr>\n",
       "  </tbody>\n",
       "</table>\n",
       "</div>"
      ],
      "text/plain": [
       "                 mean  std dev\n",
       "test_f1         0.630    0.007\n",
       "train_f1        1.000    0.000\n",
       "test_accuracy   0.799    0.006\n",
       "train_accuracy  1.000    0.000"
      ]
     },
     "execution_count": 17,
     "metadata": {},
     "output_type": "execute_result"
    }
   ],
   "source": [
    "rf_clf_pipeline = Pipeline([\n",
    "    ('scaler', StandardScaler(with_mean=True, with_std=True)),\n",
    "    ('rf', RandomForestClassifier(n_jobs=-1))\n",
    "])\n",
    "rf_result = get_cv_results(rf_clf_pipeline, X_train, y_train, cv=SKF, scorers=scorers)\n",
    "rf_result"
   ]
  },
  {
   "cell_type": "markdown",
   "metadata": {},
   "source": [
    "Видим, насколько качественнее обучается лес и показывает лучшее качество на кросс-валидации."
   ]
  },
  {
   "cell_type": "markdown",
   "metadata": {},
   "source": [
    "[вернуться к оглавлению](#table_of_contents)\n",
    "\n",
    "<a name=\"gridsearch\"></a>\n",
    "## 4. Подбор гиперпараметров случайного леса\n",
    "Так как признаков и данных немного, нас не очень смущает время обучения леса, поэтому попробуем теперь настроить гиперпараметры для него. Подбирать гиперпараметры будем поиском по сетке с оценкой метрики `f1` на кросс-валидации. Так же укажем параметр `class_weight='balanced'`, так как классы несбалансированы:"
   ]
  },
  {
   "cell_type": "code",
   "execution_count": 18,
   "metadata": {},
   "outputs": [],
   "source": [
    "# классификатор\n",
    "rf_clf_pipeline = Pipeline([\n",
    "    ('scaler', StandardScaler(with_mean=True, with_std=True)),\n",
    "    ('rf', RandomForestClassifier(random_state=RS, n_jobs=-1))\n",
    "])\n",
    "\n",
    "# сетка параметров\n",
    "param_grid = {\n",
    "    'rf__n_estimators': np.arange(10,500,50),\n",
    "    'rf__criterion': ['gini', 'entropy'],\n",
    "    'rf__max_depth': [6,10,15,20],\n",
    "    'rf__class_weight': [None, 'balanced']\n",
    "    # не очень хорошо знаю, до какого соотношения на баланс можно не смотреть особо\n",
    "}\n"
   ]
  },
  {
   "cell_type": "code",
   "execution_count": 19,
   "metadata": {},
   "outputs": [
    {
     "name": "stdout",
     "output_type": "stream",
     "text": [
      "Wall time: 3min 8s\n"
     ]
    },
    {
     "data": {
      "text/plain": [
       "GridSearchCV(cv=StratifiedKFold(n_splits=3, random_state=42, shuffle=True),\n",
       "             estimator=Pipeline(steps=[('scaler', StandardScaler()),\n",
       "                                       ('rf',\n",
       "                                        RandomForestClassifier(n_jobs=-1,\n",
       "                                                               random_state=42))]),\n",
       "             param_grid={'rf__class_weight': [None, 'balanced'],\n",
       "                         'rf__criterion': ['gini', 'entropy'],\n",
       "                         'rf__max_depth': [6, 10, 15, 20],\n",
       "                         'rf__n_estimators': array([ 10,  60, 110, 160, 210, 260, 310, 360, 410, 460])},\n",
       "             scoring='f1')"
      ]
     },
     "execution_count": 19,
     "metadata": {},
     "output_type": "execute_result"
    }
   ],
   "source": [
    "%%time\n",
    "rf_cv_f1 = GridSearchCV(rf_clf_pipeline, param_grid, cv=SKF, scoring='f1', verbose=0)\n",
    "rf_cv_f1.fit(X_train, y_train)"
   ]
  },
  {
   "cell_type": "code",
   "execution_count": 20,
   "metadata": {},
   "outputs": [
    {
     "name": "stdout",
     "output_type": "stream",
     "text": [
      "Лучшие по f1 параметры: {'rf__class_weight': 'balanced', 'rf__criterion': 'gini', 'rf__max_depth': 10, 'rf__n_estimators': 410}\n",
      "Лучший f1_score (cv): 0.64\n",
      "f1_score на test: 0.65\n"
     ]
    }
   ],
   "source": [
    "print('Лучшие по f1 параметры:', rf_cv_f1.best_params_)\n",
    "print('Лучший f1_score (cv):', round(rf_cv_f1.best_score_,2))\n",
    "print('f1_score на test:', round(rf_cv_f1.score(X_test, y_test),2))"
   ]
  },
  {
   "cell_type": "markdown",
   "metadata": {},
   "source": [
    "Посмотрим на `accuracy` такого классификатора:"
   ]
  },
  {
   "cell_type": "code",
   "execution_count": 21,
   "metadata": {},
   "outputs": [
    {
     "data": {
      "text/plain": [
       "0.81"
      ]
     },
     "execution_count": 21,
     "metadata": {},
     "output_type": "execute_result"
    }
   ],
   "source": [
    "best_rf_f1 = rf_cv_f1.best_estimator_\n",
    "round(accuracy_score(best_rf_f1.predict(X_test), y_test), 2)"
   ]
  },
  {
   "cell_type": "markdown",
   "metadata": {},
   "source": [
    "Отлично!"
   ]
  },
  {
   "cell_type": "markdown",
   "metadata": {},
   "source": [
    "Попробуем настроить гиперпараметры на `accuracy`:"
   ]
  },
  {
   "cell_type": "code",
   "execution_count": 22,
   "metadata": {},
   "outputs": [
    {
     "name": "stdout",
     "output_type": "stream",
     "text": [
      "Wall time: 3min 9s\n"
     ]
    },
    {
     "data": {
      "text/plain": [
       "GridSearchCV(cv=StratifiedKFold(n_splits=3, random_state=42, shuffle=True),\n",
       "             estimator=Pipeline(steps=[('scaler', StandardScaler()),\n",
       "                                       ('rf',\n",
       "                                        RandomForestClassifier(n_jobs=-1,\n",
       "                                                               random_state=42))]),\n",
       "             param_grid={'rf__class_weight': [None, 'balanced'],\n",
       "                         'rf__criterion': ['gini', 'entropy'],\n",
       "                         'rf__max_depth': [6, 10, 15, 20],\n",
       "                         'rf__n_estimators': array([ 10,  60, 110, 160, 210, 260, 310, 360, 410, 460])},\n",
       "             scoring='accuracy')"
      ]
     },
     "execution_count": 22,
     "metadata": {},
     "output_type": "execute_result"
    }
   ],
   "source": [
    "%%time\n",
    "rf_clf_pipeline = Pipeline([\n",
    "    ('scaler', StandardScaler(with_mean=True, with_std=True)),\n",
    "    ('rf', RandomForestClassifier(random_state=RS, n_jobs=-1))\n",
    "])\n",
    "rf_cv_acc = GridSearchCV(rf_clf_pipeline, param_grid, cv=SKF, scoring='accuracy', verbose=0)\n",
    "rf_cv_acc.fit(X_train, y_train)"
   ]
  },
  {
   "cell_type": "code",
   "execution_count": 23,
   "metadata": {},
   "outputs": [
    {
     "name": "stdout",
     "output_type": "stream",
     "text": [
      "Лучшие по accuracy параметры: {'rf__class_weight': None, 'rf__criterion': 'entropy', 'rf__max_depth': 15, 'rf__n_estimators': 110}\n",
      "Лучший accuracy _score (cv): 0.81\n",
      "accuracy_score на test: 0.81\n"
     ]
    }
   ],
   "source": [
    "print('Лучшие по accuracy параметры:', rf_cv_acc.best_params_)\n",
    "print('Лучший accuracy _score (cv):', round(rf_cv_acc.best_score_, 2))\n",
    "print('accuracy_score на test:', round(rf_cv_acc.score(X_test, y_test), 2))"
   ]
  },
  {
   "cell_type": "markdown",
   "metadata": {},
   "source": [
    "Посмотрим на `f1` такого классификатора:"
   ]
  },
  {
   "cell_type": "code",
   "execution_count": 24,
   "metadata": {},
   "outputs": [
    {
     "data": {
      "text/plain": [
       "0.64"
      ]
     },
     "execution_count": 24,
     "metadata": {},
     "output_type": "execute_result"
    }
   ],
   "source": [
    "best_rf_acc = rf_cv_acc.best_estimator_\n",
    "round(f1_score(best_rf_acc.predict(X_test), y_test), 2)"
   ]
  },
  {
   "cell_type": "markdown",
   "metadata": {},
   "source": [
    "**В данном случае разницы на что настраивавть гиперпараметры практически нет. То есть модель справляется с таким соотношением классов (1/2).**"
   ]
  },
  {
   "cell_type": "markdown",
   "metadata": {},
   "source": [
    "[вернуться к оглавлению](#table_of_contents)\n",
    "\n",
    "<a name=\"sanitycheck\"></a>\n",
    "## 5. Проверка модели на адекватность\n",
    "Убедимся, что построенная модель лучше, чем случайная или константная модели:"
   ]
  },
  {
   "cell_type": "code",
   "execution_count": 25,
   "metadata": {},
   "outputs": [],
   "source": [
    "y_model_predictions = best_rf_f1.predict(X_test)\n",
    "y_constant_0 = [0]*len(y_test)\n",
    "y_constant_1 = [1]*len(y_test)\n",
    "y_random = np.random.choice([0, 1], size=len(y_test), p=[.5, .5])"
   ]
  },
  {
   "cell_type": "code",
   "execution_count": 26,
   "metadata": {},
   "outputs": [
    {
     "name": "stdout",
     "output_type": "stream",
     "text": [
      "f1_score на test для построенной модели: 0.65\n",
      "f1_score на test для констатной модели (0): 0.0\n",
      "f1_score на test для констатной модели (1): 0.47\n",
      "f1_score на test для модели со случайным ответом: 0.4\n"
     ]
    }
   ],
   "source": [
    "print('f1_score на test для построенной модели:', round(f1_score(y_model_predictions, y_test), 2))\n",
    "print('f1_score на test для констатной модели (0):', round(f1_score(y_constant_0, y_test), 2))\n",
    "print('f1_score на test для констатной модели (1):', round(f1_score(y_constant_1, y_test), 2))\n",
    "print('f1_score на test для модели со случайным ответом:', round(f1_score(y_random, y_test), 2))"
   ]
  },
  {
   "cell_type": "markdown",
   "metadata": {},
   "source": [
    "[вернуться к оглавлению](#table_of_contents)\n",
    "\n",
    "<a name=\"colclusions\"></a>\n",
    "## 6. Выводы\n",
    "\n",
    "1. Построена оптимальная модель для классификации пользователей с целью подбора для них подходящего тарифа.\n",
    "2. Были опробованы две модели: логистическая регрессия и случайный лес, реализованные в библиотеке sklearn.\n",
    "3. Случайный лес на предоставленных данных показал лучший результат (для параметров по умолчанию f1_score (accuracy) при оценке по кросс-валидации равно 0.62 (0.79)).\n",
    "4. При поиске по сетке гиперпараметров (с максимизацией `f1_score`) были найдены оптимальные: `'class_weight': 'balanced', 'criterion': 'entropy', 'max_depth': 6, 'n_estimators': 360`. Качество модели f1_score (accuracy) с оптимальными гипрепараметрами на кросс-валидации 0.64, на тестовой выборке - 0.65 (0.81).\n",
    "5. При максимизации `accuracy` при поиске по сетке параметры сильно отличаются: `'class_weight': None, 'criterion': 'gini', 'max_depth': 10, 'n_estimators': 110`, `accuracy` на тесте при этом 0.83 (чуть выше), `f1` на тесте 0.65 (такое же).\n",
    "6. Вследствие того, что метрика `f1` при максимизации и `f1`, и `accuracy` примерно одинакова (0.65), можно сделать вывод что дисбаланс классов примерно 2 раза не критичен для построенной модели.\n",
    "7. Модель была проверена на адекватность (sanity check): `f1_score` для констатной модели, которая на всех объектах выдает 0 - 0.0, 1 - 0.47, для модели со случайным ответом - 0.35."
   ]
  }
 ],
 "metadata": {
  "kernelspec": {
   "display_name": "Python 3",
   "language": "python",
   "name": "python3"
  },
  "language_info": {
   "codemirror_mode": {
    "name": "ipython",
    "version": 3
   },
   "file_extension": ".py",
   "mimetype": "text/x-python",
   "name": "python",
   "nbconvert_exporter": "python",
   "pygments_lexer": "ipython3",
   "version": "3.8.3"
  }
 },
 "nbformat": 4,
 "nbformat_minor": 4
}
